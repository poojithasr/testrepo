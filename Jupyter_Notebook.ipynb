{
  "metadata": {
    "kernelspec": {
      "name": "python",
      "display_name": "Pyolite",
      "language": "python"
    },
    "language_info": {
      "codemirror_mode": {
        "name": "python",
        "version": 3
      },
      "file_extension": ".py",
      "mimetype": "text/x-python",
      "name": "python",
      "nbconvert_exporter": "python",
      "pygments_lexer": "ipython3",
      "version": "3.8"
    }
  },
  "nbformat_minor": 4,
  "nbformat": 4,
  "cells": [
    {
      "cell_type": "markdown",
      "source": "<center>\n    <img src=\"https://cf-courses-data.s3.us.cloud-object-storage.appdomain.cloud/IBMDeveloperSkillsNetwork-DS0105EN-SkillsNetwork/labs/Module2/images/SN_web_lightmode.png\" width=\"300\" alt=\"cognitiveclass.ai logo\"  />\n</center>\n",
      "metadata": {}
    },
    {
      "cell_type": "markdown",
      "source": "#### Add your code below following the instructions given in the course\n",
      "metadata": {}
    },
    {
      "cell_type": "markdown",
      "source": "# My Jupyter Notebook on IBM Watson Studio",
      "metadata": {}
    },
    {
      "cell_type": "markdown",
      "source": "**Poojitha Srikante**\nSr Data Analyst\n",
      "metadata": {}
    },
    {
      "cell_type": "markdown",
      "source": "_I am interested in Data Science because it is challenging and there is a lot to explore_",
      "metadata": {}
    },
    {
      "cell_type": "markdown",
      "source": "### My code in the next line will show the result of a numeric operation",
      "metadata": {}
    },
    {
      "cell_type": "code",
      "source": "10-2",
      "metadata": {
        "trusted": true
      },
      "execution_count": 3,
      "outputs": [
        {
          "execution_count": 3,
          "output_type": "execute_result",
          "data": {
            "text/plain": "8"
          },
          "metadata": {}
        }
      ]
    },
    {
      "cell_type": "markdown",
      "source": "~~Data science is the study of data to extract meaningful insights for business~~\nData Science is used for:\n1. Descriptive Analytics\n2. Diagnostic Analytics\nHere is some more information about [(https://aws.amazon.com/what-is/data-science/ \"Data Science\")]",
      "metadata": {}
    },
    {
      "cell_type": "markdown",
      "source": "~~Data science is the study of data to extract meaningful insights for business~~\nData Science is used for:\n1. Descriptive Analytics\n2. Diagnostic Analytics\nHere is some more information about <https://aws.amazon.com/what-is/data-science/ \"Data Science\">",
      "metadata": {}
    },
    {
      "cell_type": "code",
      "source": "",
      "metadata": {},
      "execution_count": null,
      "outputs": []
    }
  ]
}